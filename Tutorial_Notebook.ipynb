{
 "cells": [
  {
   "cell_type": "markdown",
   "metadata": {},
   "source": [
    "# Deep Learning Tutorial\n",
    "\n",
    "Deep Learning Tutorial based on https://spandan-madan.github.io/DeepLearningProject/.\n",
    "\n",
    "Credits: [Spandan Madan](http://people.csail.mit.edu/smadan/web/)."
   ]
  },
  {
   "cell_type": "markdown",
   "metadata": {},
   "source": [
    "## Imports\n",
    "\n",
    "* In this section we import required packages.\n",
    "* We can install these packages using the notebook itself."
   ]
  },
  {
   "cell_type": "code",
   "execution_count": 2,
   "metadata": {},
   "outputs": [],
   "source": [
    "# Inline figures\n",
    "%matplotlib inline"
   ]
  },
  {
   "cell_type": "code",
   "execution_count": 3,
   "metadata": {},
   "outputs": [],
   "source": [
    "# Installing Python packages from the notebook\n",
    "import sys\n",
    "#!conda install -c conda-forge --yes --prefix {sys.prefix} urllib2 # did not work cause of Python 2\n",
    "# Change to python 3 by using urllib instead\n",
    "#!{sys.executable} -m pip install urllib2 # did not work cause of Python 2\n",
    "#!conda install -c conda-forge --yes --prefix {sys.prefix} wget # did not work\n",
    "#!{sys.executable} -m pip install wget # worked\n",
    "#!{sys.executable} -m pip install imdb # did not work\n",
    "#!{sys.executable} -m pip install IMDbPY # worked"
   ]
  },
  {
   "cell_type": "markdown",
   "metadata": {},
   "source": [
    "Based on [Jake Van Der Plas](http://jakevdp.github.io) blog post on [Installing Python packages on a Jupyter Notebook](http://jakevdp.github.io/blog/2017/12/05/installing-python-packages-from-jupyter/)."
   ]
  },
  {
   "cell_type": "code",
   "execution_count": 4,
   "metadata": {},
   "outputs": [],
   "source": [
    "# Web access packages\n",
    "import urllib\n",
    "import requests\n",
    "import wget\n",
    "\n",
    "# Utilities packages\n",
    "import itertools\n",
    "import time\n",
    "import os\n",
    "import json\n",
    "import logging\n",
    "\n",
    "# Movies database API packages\n",
    "import imdb \n",
    "import tmdbsimple as tmdb\n",
    "\n",
    "\n",
    "import numpy as np\n",
    "import random as rd\n",
    "\n",
    "# Figure and style packages\n",
    "import matplotlib.pyplot as plt\n",
    "import seaborn as sns\n",
    "\n",
    "# Object serialization package\n",
    "import pickle\n",
    "\n",
    "# Custom utility functions \n",
    "from dltutorial.utils import get_movie_id_tmdb\n",
    "from dltutorial.utils import get_movie_info_tmdb\n",
    "from dltutorial.utils import get_movie_genres_tmdb\n",
    "from dltutorial.utils import get_api_key_tmdb\n"
   ]
  },
  {
   "cell_type": "markdown",
   "metadata": {},
   "source": [
    "## Logging\n",
    "\n",
    "* Here we instanciate a logging object to record our logs."
   ]
  },
  {
   "cell_type": "code",
   "execution_count": 5,
   "metadata": {},
   "outputs": [],
   "source": [
    "logging.basicConfig(filename=\"./dltutorial/logs/dev_logs.txt\",\n",
    "                    level=logging.INFO,\n",
    "                    format=' %(asctime)s - %(funcName)s -'\n",
    "                    '%(levelname)s - %(message)s')"
   ]
  },
  {
   "cell_type": "markdown",
   "metadata": {},
   "source": [
    "## Utility functions\n",
    "\n",
    "* You may want to create a private Python module containing only an ``__init__.py`` file that consists in a string variable ``API_KEY`` that is your private API key from [TMDB](https://www.themoviedb.org/). Else you can instanciate the ``api_key`` directly in your notebook but do not share it!\n",
    "\n",
    "* Custom utility functions have been implemented in ``dltutorial.utils``."
   ]
  },
  {
   "cell_type": "markdown",
   "metadata": {},
   "source": [
    "* We create a folder where we store the scrapped movie posters."
   ]
  },
  {
   "cell_type": "code",
   "execution_count": 6,
   "metadata": {},
   "outputs": [
    {
     "name": "stdout",
     "output_type": "stream",
     "text": [
      "./dltutorial/data/posters/ folder already exists.\n"
     ]
    }
   ],
   "source": [
    "logging.info('Setting posters storage folder...')\n",
    "\n",
    "# Create a data folder\n",
    "data_folder = 'data/'\n",
    "# Poster sub-folder inside data folder\n",
    "poster_folder = 'posters/'\n",
    "# Python package main folder\n",
    "main_folder = './dltutorial/'\n",
    "complete_path = main_folder  + data_folder + poster_folder\n",
    "\n",
    "\n",
    "if data_folder.split('/')[0] in os.listdir(main_folder):\n",
    "    logging.debug('%s in root directory...'\n",
    "                  % data_folder)\n",
    "    if poster_folder.split('/')[0] in os.listdir(main_folder + data_folder):\n",
    "        logging.debug('%s in %s folder...' %(\n",
    "            poster_folder, data_folder))\n",
    "        print('%s folder already exists.' % complete_path)\n",
    "    else:\n",
    "        logging.debug('%s not in %s folder.'\n",
    "                      'Creating relevant %s folder...' %\n",
    "                     (poster_folder, data_folder, poster_folder))\n",
    "        os.mkdir(complete_path)\n",
    "else:\n",
    "    logging.debug('%s not in root directory. Creating relevant folders...'\n",
    "                 % data_folder)\n",
    "    os.mkdir(main_folder + data_folder)\n",
    "    os.mkdir(complete_path)"
   ]
  },
  {
   "cell_type": "code",
   "execution_count": 7,
   "metadata": {},
   "outputs": [],
   "source": [
    "logging.info('Setting TMDB API key...')\n",
    "if 'private' in os.listdir(main_folder): #\n",
    "    logging.debug('Private folder exists...')\n",
    "    from dltutorial import private\n",
    "    api_key = private.API_KEY\n",
    "else:\n",
    "    logging.debug('No private folder found...')\n",
    "    print('There is no private folder.'\n",
    "          'API key will remain blank if you do not set it.')\n",
    "    api_key = '' # put your own API key but do not share it\n",
    "# Set the TMDB API key\n",
    "tmdb.API_KEY = api_key \n",
    "logging.debug('TMDB API key is set to %s...' % api_key)\n",
    "\n",
    "# Instanciate a search object from TMDB\n",
    "search_tmdb = tmdb.Search()"
   ]
  },
  {
   "cell_type": "markdown",
   "metadata": {},
   "source": [
    "### Some examples"
   ]
  },
  {
   "cell_type": "code",
   "execution_count": 8,
   "metadata": {},
   "outputs": [
    {
     "name": "stdout",
     "output_type": "stream",
     "text": [
      "The Matrix has id 603\n",
      "\n",
      "The Matrix has these info categories:\n",
      " dict_keys(['id', 'poster_path', 'runtime', 'title', 'adult', 'production_companies', 'budget', 'spoken_languages', 'production_countries', 'vote_average', 'release_date', 'original_language', 'belongs_to_collection', 'video', 'vote_count', 'genres', 'revenue', 'status', 'overview', 'backdrop_path', 'imdb_id', 'popularity', 'original_title', 'homepage', 'tagline'])\n",
      "\n",
      "The Matrix belongs to these genres:\n",
      " [{'id': 28, 'name': 'Action'}, {'id': 878, 'name': 'Science Fiction'}]\n",
      "\n"
     ]
    }
   ],
   "source": [
    "# Some examples\n",
    "movie_name = \"The Matrix\"\n",
    "\n",
    "movie_id = get_movie_id_tmdb(movie_name=movie_name, search_tmdb=search_tmdb)\n",
    "print(\"%s has id %s\\n\" % (movie_name, movie_id))\n",
    "movie_info = get_movie_info_tmdb(movie_name=movie_name, search_tmdb=search_tmdb)\n",
    "print(\"%s has these info categories:\\n %s\\n\" % (movie_name, movie_info.keys()))\n",
    "movie_genres = get_movie_genres_tmdb(movie_name=movie_name, search_tmdb=search_tmdb)\n",
    "print(\"%s belongs to these genres:\\n %s\\n\" % (movie_name, movie_genres))"
   ]
  },
  {
   "cell_type": "markdown",
   "metadata": {},
   "source": [
    "## IMDB"
   ]
  },
  {
   "cell_type": "code",
   "execution_count": 10,
   "metadata": {},
   "outputs": [
    {
     "data": {
      "text/plain": [
       "['Action', 'Sci-Fi']"
      ]
     },
     "execution_count": 10,
     "metadata": {},
     "output_type": "execute_result"
    }
   ],
   "source": [
    "# Create the IMDB object that will be used to access the IMDb's database.\n",
    "imdb_object = imdb.IMDb() # by default access the web.\n",
    "\n",
    "# Search for a movie (get a list of Movie objects).\n",
    "results = imdb_object.search_movie('The Matrix')\n",
    "\n",
    "# As this returns a list of all movies containing the word \"The Matrix\", we pick the first element\n",
    "movie = results[0]\n",
    "\n",
    "# Enrich the movie infos\n",
    "imdb_object.update(movie)\n",
    "\n",
    "movie['genres']"
   ]
  },
  {
   "cell_type": "code",
   "execution_count": 11,
   "metadata": {},
   "outputs": [],
   "source": [
    "def get_movie_genres_imdb(movie_name, search_imdb):\n",
    "    \"\"\"\n",
    "    Get movie genres from IMDB using movie name\n",
    "    \n",
    "    Parameters\n",
    "    -----------\n",
    "    - movie_name : string\n",
    "        Name of the movie\n",
    "        \n",
    "    - search_imdb : imdb.IMDb object\n",
    "        imdb instantiated object\n",
    "        \n",
    "    Returns\n",
    "    ----------\n",
    "    - movie_genres : list of strings\n",
    "        strings list containing movie genres\n",
    "    \"\"\"\n",
    "    logging.debug(\"Search movie %s in IMDB...\" % movie_name)\n",
    "    # Search and retrieve first result\n",
    "    movie_info = search_imdb.search_movie(movie_name)[0]\n",
    "    # Enrich movie infos\n",
    "    search_imdb.update(movie_info)\n",
    "    # Extract movie genres\n",
    "    movie_genres = movie_info['genres']\n",
    "    logging.debug(\"Retrieving movie genres %s...\" % movie_genres)\n",
    "    return movie_genres\n",
    "\n",
    "def get_movie_info_imdb(movie_name, search_imdb):\n",
    "    \"\"\"\n",
    "    Get movie infos from IMDB using movie name\n",
    "    \n",
    "    Parameters\n",
    "    -----------\n",
    "    - movie_name : string\n",
    "        Name of the movie\n",
    "        \n",
    "    - search_imdb : imdb.IMDb object\n",
    "        imdb instantiated object\n",
    "        \n",
    "    Returns\n",
    "    ----------\n",
    "    - movie_info : dictionary\n",
    "        dictionary containing movie infos\n",
    "    \"\"\"\n",
    "    logging.debug(\"Search movie %s in IMDB...\" % movie_name)\n",
    "    # Search and retrieve first result\n",
    "    movie_info = search_imdb.search_movie(movie_name)[0]\n",
    "    # Enrich movie infos\n",
    "    search_imdb.update(movie_info)\n",
    "    logging.debug(\"Movie info retrieved? %s...\" % (movie_info is not None))\n",
    "    return movie_info"
   ]
  },
  {
   "cell_type": "markdown",
   "metadata": {},
   "source": [
    "### Test cases"
   ]
  },
  {
   "cell_type": "code",
   "execution_count": 15,
   "metadata": {},
   "outputs": [
    {
     "name": "stdout",
     "output_type": "stream",
     "text": [
      "The Matrix movie belongs to genres:\n",
      " ['Action', 'Sci-Fi'] \n",
      "\n",
      "The Matrix movie first 10 info categories:\n",
      " ['title', 'animation department', 'production managers ', 'producer', 'special effects companies', 'casting department', 'kind', 'cast', 'casting director', 'camera and electrical department'] \n",
      "\n"
     ]
    }
   ],
   "source": [
    "movie_name = \"The Matrix\"\n",
    "search_imdb = imdb.IMDb()\n",
    "\n",
    "movie_genres = get_movie_genres_imdb(movie_name=movie_name, search_imdb=search_imdb)\n",
    "assert isinstance(movie_genres, list)\n",
    "print(\"%s movie belongs to genres:\\n %s \\n\" % (movie_name, movie_genres))\n",
    "movie_info = get_movie_info_imdb(movie_name=movie_name, search_imdb=search_imdb)\n",
    "assert isinstance(movie_info, imdb.Movie.Movie)\n",
    "print(\"%s movie first 10 info categories:\\n %s \\n\" % (movie_name, movie_info.keys()[:10]))"
   ]
  },
  {
   "cell_type": "code",
   "execution_count": null,
   "metadata": {},
   "outputs": [],
   "source": []
  }
 ],
 "metadata": {
  "anaconda-cloud": {},
  "kernelspec": {
   "display_name": "Python [conda env:anaconda3]",
   "language": "python",
   "name": "conda-env-anaconda3-py"
  },
  "language_info": {
   "codemirror_mode": {
    "name": "ipython",
    "version": 3
   },
   "file_extension": ".py",
   "mimetype": "text/x-python",
   "name": "python",
   "nbconvert_exporter": "python",
   "pygments_lexer": "ipython3",
   "version": "3.5.2"
  }
 },
 "nbformat": 4,
 "nbformat_minor": 2
}
