{
 "cells": [
  {
   "cell_type": "markdown",
   "metadata": {},
   "source": [
    "# Deep Learning Tutorial\n",
    "\n",
    "Deep Learning Tutorial based on https://spandan-madan.github.io/DeepLearningProject/.\n",
    "\n",
    "Credits: [Spandan Madan](http://people.csail.mit.edu/smadan/web/)."
   ]
  },
  {
   "cell_type": "markdown",
   "metadata": {},
   "source": [
    "## Imports\n",
    "\n",
    "* In this section we import required packages.\n",
    "* We can install these packages using the notebook itself."
   ]
  },
  {
   "cell_type": "code",
   "execution_count": 1,
   "metadata": {},
   "outputs": [],
   "source": [
    "# Inline figures\n",
    "%matplotlib inline"
   ]
  },
  {
   "cell_type": "code",
   "execution_count": 2,
   "metadata": {},
   "outputs": [],
   "source": [
    "# Installing Python packages from the notebook\n",
    "import sys\n",
    "#!conda install -c conda-forge --yes --prefix {sys.prefix} urllib2 # did not work cause of Python 2\n",
    "# Change to python 3 by using urllib instead\n",
    "#!{sys.executable} -m pip install urllib2 # did not work cause of Python 2\n",
    "#!conda install -c conda-forge --yes --prefix {sys.prefix} wget # did not work\n",
    "#!{sys.executable} -m pip install wget # worked\n",
    "#!{sys.executable} -m pip install imdb # did not work\n",
    "#!{sys.executable} -m pip install IMDbPY # worked"
   ]
  },
  {
   "cell_type": "markdown",
   "metadata": {},
   "source": [
    "Based on [Jake Van Der Plas](http://jakevdp.github.io) blog post on [Installing Python packages on a Jupyter Notebook](http://jakevdp.github.io/blog/2017/12/05/installing-python-packages-from-jupyter/)."
   ]
  },
  {
   "cell_type": "code",
   "execution_count": 3,
   "metadata": {},
   "outputs": [],
   "source": [
    "# Web access packages\n",
    "import urllib\n",
    "import requests\n",
    "import wget\n",
    "\n",
    "# Utilities packages\n",
    "import itertools\n",
    "import time\n",
    "import os\n",
    "import json\n",
    "import logging\n",
    "\n",
    "# Movies database API packages\n",
    "import imdb \n",
    "import tmdbsimple as tmdb\n",
    "\n",
    "\n",
    "import numpy as np\n",
    "import random as rd\n",
    "\n",
    "# Figure and style packages\n",
    "import matplotlib.pyplot as plt\n",
    "import seaborn as sns\n",
    "\n",
    "# Object serialization package\n",
    "import pickle\n",
    "\n",
    "# Custom utility functions \n",
    "from dltutorial.utils import get_movie_id_tmdb\n",
    "from dltutorial.utils import get_movie_info_tmdb\n",
    "from dltutorial.utils import get_movie_genres_tmdb\n",
    "from dltutorial.utils import get_api_key_tmdb\n",
    "\n",
    "from dltutorial.utils import get_movie_info_imdb\n",
    "from dltutorial.utils import get_movie_genres_imdb"
   ]
  },
  {
   "cell_type": "markdown",
   "metadata": {},
   "source": [
    "## Style"
   ]
  },
  {
   "cell_type": "code",
   "execution_count": 4,
   "metadata": {},
   "outputs": [],
   "source": [
    "plt.style.use('seaborn-darkgrid')\n",
    "sns.set(rc={'figure.figsize':(9, 6)})"
   ]
  },
  {
   "cell_type": "markdown",
   "metadata": {},
   "source": [
    "## Logging\n",
    "\n",
    "* Here we instanciate a logging object to record our logs."
   ]
  },
  {
   "cell_type": "code",
   "execution_count": 5,
   "metadata": {},
   "outputs": [],
   "source": [
    "logging.basicConfig(filename=\"./dltutorial/logs/dev_logs.txt\",\n",
    "                    level=logging.INFO,\n",
    "                    format=' %(asctime)s - %(funcName)s -'\n",
    "                    '%(levelname)s - %(message)s')"
   ]
  },
  {
   "cell_type": "markdown",
   "metadata": {},
   "source": [
    "## Utility functions\n",
    "\n",
    "* You may want to create a private Python module containing only an ``__init__.py`` file that consists in a string variable ``API_KEY`` that is your private API key from [TMDB](https://www.themoviedb.org/). Else you can instanciate the ``api_key`` directly in your notebook but do not share it!\n",
    "\n",
    "* Custom utility functions have been implemented in ``dltutorial.utils``."
   ]
  },
  {
   "cell_type": "markdown",
   "metadata": {},
   "source": [
    "* We create a folder where we store the scrapped movie posters."
   ]
  },
  {
   "cell_type": "code",
   "execution_count": 6,
   "metadata": {},
   "outputs": [
    {
     "name": "stdout",
     "output_type": "stream",
     "text": [
      "./dltutorial/data/posters/ folder already exists.\n"
     ]
    }
   ],
   "source": [
    "logging.info('Setting posters storage folder...')\n",
    "\n",
    "# Create a data folder\n",
    "data_folder = 'data/'\n",
    "# Poster sub-folder inside data folder\n",
    "poster_folder = 'posters/'\n",
    "# Python package main folder\n",
    "main_folder = './dltutorial/'\n",
    "complete_path = main_folder  + data_folder + poster_folder\n",
    "\n",
    "if data_folder.split('/')[0] in os.listdir(main_folder):\n",
    "    logging.debug('%s in root directory...'\n",
    "                  % data_folder)\n",
    "    if poster_folder.split('/')[0] in os.listdir(main_folder + data_folder):\n",
    "        logging.debug('%s in %s folder...' %(\n",
    "            poster_folder, data_folder))\n",
    "        print('%s folder already exists.' % complete_path)\n",
    "    else:\n",
    "        logging.debug('%s not in %s folder.'\n",
    "                      'Creating relevant %s folder...' %\n",
    "                     (poster_folder, data_folder, poster_folder))\n",
    "        os.mkdir(complete_path)\n",
    "else:\n",
    "    logging.debug('%s not in root directory. Creating relevant folders...'\n",
    "                 % data_folder)\n",
    "    os.mkdir(main_folder + data_folder)\n",
    "    os.mkdir(complete_path)"
   ]
  },
  {
   "cell_type": "markdown",
   "metadata": {},
   "source": [
    "## Some examples\n",
    "\n",
    "### TMDB"
   ]
  },
  {
   "cell_type": "code",
   "execution_count": 7,
   "metadata": {},
   "outputs": [
    {
     "name": "stdout",
     "output_type": "stream",
     "text": [
      "The Matrix has id 603\n",
      "\n",
      "The Matrix has these info categories:\n",
      " dict_keys(['revenue', 'vote_average', 'overview', 'title', 'backdrop_path', 'genres', 'tagline', 'spoken_languages', 'poster_path', 'runtime', 'popularity', 'budget', 'video', 'original_language', 'production_companies', 'imdb_id', 'id', 'release_date', 'original_title', 'adult', 'homepage', 'vote_count', 'belongs_to_collection', 'production_countries', 'status'])\n",
      "\n",
      "The Matrix belongs to these genres:\n",
      " [{'name': 'Action', 'id': 28}, {'name': 'Science Fiction', 'id': 878}]\n",
      "\n"
     ]
    }
   ],
   "source": [
    "logging.info('Setting TMDB API key...')\n",
    "if 'private' in os.listdir(main_folder): #\n",
    "    logging.debug('Private folder exists...')\n",
    "    from dltutorial import private\n",
    "    api_key = private.API_KEY\n",
    "else:\n",
    "    logging.debug('No private folder found...')\n",
    "    print('There is no private folder.'\n",
    "          'API key will remain blank if you do not set it.')\n",
    "    api_key = '' # put your own API key but do not share it\n",
    "# Set the TMDB API key\n",
    "tmdb.API_KEY = api_key \n",
    "logging.debug('TMDB API key is set to %s...' % api_key)\n",
    "\n",
    "# Instanciate a search object from TMDB\n",
    "search_tmdb = tmdb.Search()\n",
    "\n",
    "# Some examples\n",
    "movie_name = \"The Matrix\"\n",
    "\n",
    "movie_id = get_movie_id_tmdb(movie_name=movie_name, search_tmdb=search_tmdb)\n",
    "print(\"%s has id %s\\n\" % (movie_name, movie_id))\n",
    "movie_info = get_movie_info_tmdb(movie_name=movie_name, search_tmdb=search_tmdb)\n",
    "print(\"%s has these info categories:\\n %s\\n\" % (movie_name, movie_info.keys()))\n",
    "movie_genres = get_movie_genres_tmdb(movie_name=movie_name, search_tmdb=search_tmdb)\n",
    "print(\"%s belongs to these genres:\\n %s\\n\" % (movie_name, movie_genres))"
   ]
  },
  {
   "cell_type": "markdown",
   "metadata": {},
   "source": [
    "### IMDB"
   ]
  },
  {
   "cell_type": "code",
   "execution_count": 8,
   "metadata": {},
   "outputs": [
    {
     "name": "stdout",
     "output_type": "stream",
     "text": [
      "The Matrix movie belongs to genres:\n",
      " ['Action', 'Sci-Fi'] \n",
      "\n",
      "The Matrix movie first 10 info categories:\n",
      " ['synopsis', 'cinematographer', 'plot', 'plot outline', 'cover url', 'casting director', 'title', 'runtimes', 'camera and electrical department', 'year'] \n",
      "\n"
     ]
    }
   ],
   "source": [
    "movie_name = \"The Matrix\"\n",
    "search_imdb = imdb.IMDb()\n",
    "\n",
    "movie_genres = get_movie_genres_imdb(movie_name=movie_name, search_imdb=search_imdb)\n",
    "print(\"%s movie belongs to genres:\\n %s \\n\" % (movie_name, movie_genres))\n",
    "movie_info = get_movie_info_imdb(movie_name=movie_name, search_imdb=search_imdb)\n",
    "print(\"%s movie first 10 info categories:\\n %s \\n\" % (movie_name, movie_info.keys()[:10]))"
   ]
  },
  {
   "cell_type": "markdown",
   "metadata": {},
   "source": [
    "## Multiple movies"
   ]
  },
  {
   "cell_type": "markdown",
   "metadata": {},
   "source": [
    "#### Top 20 from TMDB"
   ]
  },
  {
   "cell_type": "code",
   "execution_count": 9,
   "metadata": {},
   "outputs": [
    {
     "name": "stdout",
     "output_type": "stream",
     "text": [
      "Fifty Shades Freed\n",
      "['Drama', 'Romance']\n",
      "\n",
      "Zootopia\n",
      "['Animation', 'Adventure', 'Family', 'Comedy']\n",
      "\n",
      "Coco\n",
      "['Adventure', 'Comedy', 'Family', 'Animation']\n",
      "\n",
      "Ready Player One\n",
      "['Adventure', 'Science Fiction', 'Action']\n",
      "\n",
      "Black Panther\n",
      "['Action', 'Adventure', 'Fantasy', 'Science Fiction']\n",
      "\n"
     ]
    }
   ],
   "source": [
    "# Top 20 popular films\n",
    "top_movies = tmdb.Movies().popular()['results']\n",
    "# Create a TMDB genre object\n",
    "genres = tmdb.Genres()\n",
    "# Returns the genres list (ID/name)\n",
    "genres_list = genres.movie_list()['genres']\n",
    "# Create a genres dictionary\n",
    "genres_dict = dict()\n",
    "for genre in genres_list:\n",
    "    genres_dict[genre['id']] = genre['name']\n",
    "# Print the genres of top 5 movies\n",
    "for movie in top_movies[:5]:\n",
    "    genre_ids = movie['genre_ids']\n",
    "    genre_names = list()\n",
    "    for genre_id in genre_ids: \n",
    "        genre_names.append(genres_dict[genre_id])\n",
    "    print(\"%s\\n%s\\n\" % (movie['title'], genre_names))"
   ]
  },
  {
   "cell_type": "markdown",
   "metadata": {},
   "source": [
    "#### Top 1000 movies from TMDB"
   ]
  },
  {
   "cell_type": "code",
   "execution_count": 10,
   "metadata": {},
   "outputs": [],
   "source": [
    "movie_list_file = './dltutorial/data/tmdb_movie_list.pckl'\n",
    "\n",
    "if not os.path.exists(movie_list_file):\n",
    "    # Instantiate TMDB movies object\n",
    "    all_movies = tmdb.Movies()\n",
    "    # Instantiate empty list of movies to populate\n",
    "    top1000_movies = list()\n",
    "    # Number of pages to download\n",
    "    n_pages = 50\n",
    "    logging.debug(\"Downloading movie list from top %s pages...\" % n_pages)\n",
    "    for i in range(1, n_pages + 1):\n",
    "        if i%10 == 0:\n",
    "            msg = \"%s out of %s movie pages downloaded (%s%%)...\" % (i, n_pages, round(100 * i / n_pages, 1))\n",
    "            print(msg)\n",
    "            logging.debug(msg)\n",
    "            time.sleep(5)\n",
    "        current_page_movies = all_movies.popular(page=i)['results']\n",
    "        top1000_movies.extend(current_page_movies)\n",
    "    # Write binary in data folder in pickle format\n",
    "    logging.debug(\"Writing %s movie results on disk...\" % (len(top1000_movies)))\n",
    "    with open(file=movie_list_file, mode='wb') as f:\n",
    "        pickle.dump(top1000_movies, f)\n",
    "    logging.debug(\"Done writing...\")\n",
    "else:\n",
    "    logging.debug(\"Loading movies list from disk...\")\n",
    "    with open(file=movie_list_file, mode='rb') as f:\n",
    "        top1000_movies = pickle.load(f)\n",
    "    logging.debug(\"Done loading %s movies\" % len(top1000_movies))"
   ]
  },
  {
   "cell_type": "markdown",
   "metadata": {},
   "source": [
    "## Dealing with unbalanced dataset\n",
    "\n",
    "Handling the multi-label component. Co-occurrence sheds some information that the dataset has imbalances.\n",
    "\n",
    "* We want to investigate pairwise genres correlations.\n",
    "    * First we build every possible pair from the movie genres available."
   ]
  },
  {
   "cell_type": "code",
   "execution_count": 11,
   "metadata": {},
   "outputs": [],
   "source": [
    "def list2pairs(input_list):\n",
    "    \"\"\"\n",
    "    Generating all possible pairs of movies\n",
    "    \n",
    "    Parameters\n",
    "    -----------\n",
    "    - input_list: list\n",
    "        generic list used to generate pairs\n",
    "        \n",
    "    Returns\n",
    "    -----------\n",
    "    - pairs: list\n",
    "        list of pairs (tuples)\n",
    "    \"\"\"\n",
    "    # Build all pairs of length 2 from input_list\n",
    "    pairs = list(itertools.combinations(input_list, 2))\n",
    "    # Add duplicate pairs\n",
    "    pairs.extend([(elt, elt) for elt in input_list])\n",
    "    return pairs"
   ]
  },
  {
   "cell_type": "code",
   "execution_count": 12,
   "metadata": {},
   "outputs": [
    {
     "ename": "AssertionError",
     "evalue": "",
     "output_type": "error",
     "traceback": [
      "\u001b[0;31m---------------------------------------------------------------------------\u001b[0m",
      "\u001b[0;31mAssertionError\u001b[0m                            Traceback (most recent call last)",
      "\u001b[0;32m<ipython-input-12-b87b2cdee74e>\u001b[0m in \u001b[0;36m<module>\u001b[0;34m()\u001b[0m\n\u001b[1;32m     15\u001b[0m \u001b[0;34m\u001b[0m\u001b[0m\n\u001b[1;32m     16\u001b[0m \u001b[0;34m\u001b[0m\u001b[0m\n\u001b[0;32m---> 17\u001b[0;31m \u001b[0;32massert\u001b[0m \u001b[0mlen\u001b[0m\u001b[0;34m(\u001b[0m\u001b[0mgenres_dict\u001b[0m\u001b[0;34m.\u001b[0m\u001b[0mkeys\u001b[0m\u001b[0;34m(\u001b[0m\u001b[0;34m)\u001b[0m\u001b[0;34m)\u001b[0m \u001b[0;34m==\u001b[0m \u001b[0mcorr_matrix\u001b[0m\u001b[0;34m.\u001b[0m\u001b[0mshape\u001b[0m\u001b[0;34m[\u001b[0m\u001b[0;36m0\u001b[0m\u001b[0;34m]\u001b[0m\u001b[0;34m\u001b[0m\u001b[0m\n\u001b[0m\u001b[1;32m     18\u001b[0m \u001b[0;32massert\u001b[0m \u001b[0mlen\u001b[0m\u001b[0;34m(\u001b[0m\u001b[0mgenres_dict\u001b[0m\u001b[0;34m.\u001b[0m\u001b[0mkeys\u001b[0m\u001b[0;34m(\u001b[0m\u001b[0;34m)\u001b[0m\u001b[0;34m)\u001b[0m \u001b[0;34m==\u001b[0m \u001b[0mcorr_matrix\u001b[0m\u001b[0;34m.\u001b[0m\u001b[0mshape\u001b[0m\u001b[0;34m[\u001b[0m\u001b[0;36m1\u001b[0m\u001b[0;34m]\u001b[0m\u001b[0;34m\u001b[0m\u001b[0m\n\u001b[1;32m     19\u001b[0m \u001b[0mprint\u001b[0m\u001b[0;34m(\u001b[0m\u001b[0;34m\"Correlation matrix shape: \"\u001b[0m\u001b[0;34m,\u001b[0m \u001b[0mcorr_matrix\u001b[0m\u001b[0;34m.\u001b[0m\u001b[0mshape\u001b[0m\u001b[0;34m)\u001b[0m\u001b[0;34m\u001b[0m\u001b[0m\n",
      "\u001b[0;31mAssertionError\u001b[0m: "
     ]
    }
   ],
   "source": [
    "# Get all genre pairs from top 1000 movies\n",
    "genre_pairs = list()\n",
    "for movie in top1000_movies:\n",
    "    genre_pairs.extend(list2pairs(movie['genre_ids']))\n",
    "    \n",
    "# We keep only unique pairs\n",
    "unique_genres = np.unique(genre_pairs)\n",
    "# We instantiate a correlation matrix\n",
    "corr_matrix = np.zeros((len(unique_genres), len(unique_genres)))\n",
    "for pair in genre_pairs:\n",
    "    corr_matrix[np.argwhere(unique_genres == pair[0]), np.argwhere(unique_genres == pair[1])] += 1\n",
    "    # If not duplicate pairs, affect symmetrical coefficient\n",
    "    if pair[1] != pair[0]:\n",
    "        corr_matrix[np.argwhere(unique_genres == pair[1]), np.argwhere(unique_genres == pair[0])] += 1\n",
    "        \n",
    "\n",
    "assert len(genres_dict.keys()) == corr_matrix.shape[0]\n",
    "assert len(genres_dict.keys()) == corr_matrix.shape[1]\n",
    "print(\"Correlation matrix shape: \", corr_matrix.shape)"
   ]
  },
  {
   "cell_type": "markdown",
   "metadata": {},
   "source": [
    "##### Debugging part: dropping missing genre"
   ]
  },
  {
   "cell_type": "code",
   "execution_count": 13,
   "metadata": {},
   "outputs": [
    {
     "data": {
      "text/plain": [
       "19"
      ]
     },
     "execution_count": 13,
     "metadata": {},
     "output_type": "execute_result"
    }
   ],
   "source": [
    "len(genres_dict.keys())"
   ]
  },
  {
   "cell_type": "code",
   "execution_count": 14,
   "metadata": {},
   "outputs": [
    {
     "data": {
      "text/plain": [
       "(18, 18)"
      ]
     },
     "execution_count": 14,
     "metadata": {},
     "output_type": "execute_result"
    }
   ],
   "source": [
    "corr_matrix.shape"
   ]
  },
  {
   "cell_type": "code",
   "execution_count": 15,
   "metadata": {},
   "outputs": [
    {
     "data": {
      "text/plain": [
       "array([   12,    14,    16,    18,    27,    28,    35,    36,    37,\n",
       "          53,    80,    99,   878,  9648, 10402, 10749, 10751, 10752])"
      ]
     },
     "execution_count": 15,
     "metadata": {},
     "output_type": "execute_result"
    }
   ],
   "source": [
    "unique_genres"
   ]
  },
  {
   "cell_type": "code",
   "execution_count": 16,
   "metadata": {},
   "outputs": [
    {
     "data": {
      "text/plain": [
       "[12,\n",
       " 14,\n",
       " 16,\n",
       " 18,\n",
       " 27,\n",
       " 28,\n",
       " 35,\n",
       " 36,\n",
       " 37,\n",
       " 53,\n",
       " 80,\n",
       " 99,\n",
       " 878,\n",
       " 9648,\n",
       " 10402,\n",
       " 10749,\n",
       " 10751,\n",
       " 10752,\n",
       " 10770]"
      ]
     },
     "execution_count": 16,
     "metadata": {},
     "output_type": "execute_result"
    }
   ],
   "source": [
    "sorted(genres_dict.keys())"
   ]
  },
  {
   "cell_type": "code",
   "execution_count": 17,
   "metadata": {},
   "outputs": [
    {
     "data": {
      "text/plain": [
       "'TV Movie'"
      ]
     },
     "execution_count": 17,
     "metadata": {},
     "output_type": "execute_result"
    }
   ],
   "source": [
    "genres_dict[10770]"
   ]
  },
  {
   "cell_type": "markdown",
   "metadata": {},
   "source": [
    "We have no ``'TV Movie'`` movies in our dataset. I suggest dropping the ``'TV Movie'`` key in ``genres_dict``."
   ]
  },
  {
   "cell_type": "code",
   "execution_count": 18,
   "metadata": {},
   "outputs": [
    {
     "data": {
      "text/plain": [
       "'TV Movie'"
      ]
     },
     "execution_count": 18,
     "metadata": {},
     "output_type": "execute_result"
    }
   ],
   "source": [
    "genres_dict.pop(10770, None)"
   ]
  },
  {
   "cell_type": "code",
   "execution_count": 19,
   "metadata": {},
   "outputs": [
    {
     "name": "stdout",
     "output_type": "stream",
     "text": [
      "Correlation matrix shape:  (18, 18)\n"
     ]
    }
   ],
   "source": [
    "assert len(genres_dict.keys()) == corr_matrix.shape[0]\n",
    "assert len(genres_dict.keys()) == corr_matrix.shape[1]\n",
    "print(\"Correlation matrix shape: \", corr_matrix.shape)"
   ]
  },
  {
   "cell_type": "markdown",
   "metadata": {},
   "source": [
    "#### Correlation matrix visualization"
   ]
  },
  {
   "cell_type": "code",
   "execution_count": 20,
   "metadata": {},
   "outputs": [
    {
     "data": {
      "image/png": "[encoded data removed]",
      "text/plain": [
       "<matplotlib.figure.Figure at 0x7f1980febcf8>"
      ]
     },
     "metadata": {},
     "output_type": "display_data"
    }
   ],
   "source": [
    "# Return genres names\n",
    "annotations = [genres_dict[genre_id] for genre_id in unique_genres]\n",
    "# Display correlation matrix\n",
    "sns.heatmap(corr_matrix, xticklabels=annotations, yticklabels=annotations);"
   ]
  },
  {
   "cell_type": "markdown",
   "metadata": {},
   "source": [
    "* Diagonal terms correspond to self-pairs, i.e. the number of times a genre co-occur. That is nothing else than the total times said genre occurred. *We observe that Drama seems to be the most common genre*.\n",
    "\n",
    "* Additionally we notice that Action often occurs alongside Adventure, Thriller and Mystery."
   ]
  },
  {
   "cell_type": "markdown",
   "metadata": {},
   "source": [
    "### Biclustering"
   ]
  },
  {
   "cell_type": "code",
   "execution_count": 21,
   "metadata": {},
   "outputs": [],
   "source": [
    "from sklearn.cluster import SpectralCoclustering"
   ]
  },
  {
   "cell_type": "code",
   "execution_count": 24,
   "metadata": {},
   "outputs": [
    {
     "data": {
      "image/png": "[encoded data removed]",
      "text/plain": [
       "<matplotlib.figure.Figure at 0x7f197fd92ef0>"
      ]
     },
     "metadata": {},
     "output_type": "display_data"
    }
   ],
   "source": [
    "# Instantiate model\n",
    "model = SpectralCoclustering(n_clusters=5)\n",
    "# Fit model\n",
    "model.fit(corr_matrix)\n",
    "\n",
    "# Rearrange data based on bi-clusters\n",
    "fit_data = corr_matrix[np.argsort(model.row_labels_)]\n",
    "fit_data = fit_data[:, np.argsort(model.column_labels_)]\n",
    "\n",
    "# Build rearranged annotations\n",
    "sorted_annotations = [genres_dict[unique_genres[idx]] for idx in np.argsort(model.row_labels_)]\n",
    "\n",
    "# Display biclustering aftermath\n",
    "sns.heatmap(fit_data, xticklabels=sorted_annotations, yticklabels=sorted_annotations)\n",
    "plt.title(\"Post Bi-Clustering. Rearranged to display biclusters\");"
   ]
  },
  {
   "cell_type": "markdown",
   "metadata": {},
   "source": [
    "* We see genres are clustered into groups. For instance: *Thriller, Action, Horror and Crime* belong to 1 cluster while *Adventure, Fantasy, Animation, Comedy and Family* belong to another."
   ]
  },
  {
   "cell_type": "markdown",
   "metadata": {},
   "source": []
  }
 ],
 "metadata": {
  "anaconda-cloud": {},
  "kernelspec": {
   "display_name": "Python [conda env:anaconda3]",
   "language": "python",
   "name": "conda-env-anaconda3-py"
  },
  "language_info": {
   "codemirror_mode": {
    "name": "ipython",
    "version": 3
   },
   "file_extension": ".py",
   "mimetype": "text/x-python",
   "name": "python",
   "nbconvert_exporter": "python",
   "pygments_lexer": "ipython3",
   "version": "3.5.2"
  }
 },
 "nbformat": 4,
 "nbformat_minor": 2
}
